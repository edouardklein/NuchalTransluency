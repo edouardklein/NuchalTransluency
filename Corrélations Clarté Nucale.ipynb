{
 "cells": [
  {
   "cell_type": "markdown",
   "metadata": {},
   "source": [
    "#Littérature\n",
    "* (Pandya 95) :\n",
    " * Foetus normaux : CN augmente avec LCC\n",
    " * Foetus anormaux ($\\forall$ défaut) : 77% ou 78% d'entre eux ont une CN au delà du 95eme percentile \n",
    " * Explique le comprmis FP/FN en fonction du seuil\n",
    "* (Snijders 98) :\n",
    " * Eux au moins sont clairs et succincts : \" Risk of trisomy 21 was calculated from the maternal age and gestational-age-related prevalence, multiplied by a likelihood ratio depending on the deviation from normal in nuchal-translucency thickness for crown-rump length\"\n",
    " * Ils n'étudient pas tous les seuils (du coup quel est l'intérêt par rapport à l'étude de 95 ?) et concluent : \"Selection of the high-risk group for invasive testing by this method allows the detection of about 80% of affected pregnancies. However, even this method of risk assessment requires about 30 invasive tests for identification of one affected fetus.\"\n",
    "* (Wright 2008)\n",
    " * Rentrent dans le vif du sujet \"To quantify this deviation the measured NT is either subtracted (delta NT) or divided by the expected median (multiple of the median method, MoM). This study examines the validity of these methods.\"\n",
    " * en plus on dirait qu'ils savent faire des stats : \"the distribution of NT was not gaussian\". \n",
    " * Ils supposent un GMM (Gaussian mixture model) qu'ils justifient avec des arguments diagnostiques\n",
    "* (Kagan wright 2009)\n",
    " * Méthodo intéressante : si l'échographiste est mauvais ça donne de mauvais résultat. Merci Sherlock. Je plaisante, c'est intéressant d'avoir quantifié précisément de combien un déviation de quelques millimètres dans l'estimation pourrissait la performance du test.\n"
   ]
  },
  {
   "cell_type": "markdown",
   "metadata": {},
   "source": [
    "# Questions :\n",
    " * Corrélation entre CN et age maternel ?\n",
    " * Corrélation entre CN et age gestationnel ?"
   ]
  },
  {
   "cell_type": "markdown",
   "metadata": {},
   "source": [
    "# Chargement des données\n",
    "## Ouverture des fichiers Excel"
   ]
  },
  {
   "cell_type": "code",
   "execution_count": 71,
   "metadata": {
    "collapsed": true
   },
   "outputs": [],
   "source": [
    "import pandas as pd\n",
    "from matplotlib_venn import venn2\n",
    "import matplotlib.pyplot as plt\n",
    "import seaborn as sns\n",
    "%matplotlib inline\n",
    "import scipy"
   ]
  },
  {
   "cell_type": "code",
   "execution_count": 4,
   "metadata": {
    "collapsed": false
   },
   "outputs": [],
   "source": [
    "data1 = pd.read_excel('Datas2013-1BIONUQUALOA1.xlsx')\n",
    "data2 = pd.read_excel('Datas2013-2BIONUQUALOA1.xlsx')\n",
    "data3 = pd.read_excel('Datas2014-1BIONUQUALOA1.xlsx')"
   ]
  },
  {
   "cell_type": "code",
   "execution_count": 24,
   "metadata": {
    "collapsed": false
   },
   "outputs": [
    {
     "name": "stdout",
     "output_type": "stream",
     "text": [
      "Column in Data2013-1, but neither in Data2013-2 nor Data2014 : {'MoM HCG Totale T2'}\n",
      "Columns not in Data2013-1, but in Data2013-2 and Data2014 : {' caryotype_texte', ' date_accouchement', ' issue_nature', ' autre_anomalie', ' terme', ' caryotype', ' type', ' issue_connue', ' T21'}\n"
     ]
    },
    {
     "data": {
      "image/png": "[encoded data removed]",
      "text/plain": [
       "<matplotlib.figure.Figure at 0x1313f6a0>"
      ]
     },
     "metadata": {},
     "output_type": "display_data"
    }
   ],
   "source": [
    "assert(all(data2.columns == data3.columns))\n",
    "venn2([set(data1.columns), set(data2.columns)], set_labels=['Data2013-1', 'Data2013-2'])\n",
    "print(\"Column in Data2013-1, but neither in Data2013-2 nor Data2014 : \"+str(set(data1.columns) -set(data2.columns)))\n",
    "print(\"Columns not in Data2013-1, but in Data2013-2 and Data2014 : \"+str(set(data2.columns) -set(data1.columns)))"
   ]
  },
  {
   "cell_type": "markdown",
   "metadata": {},
   "source": [
    "## Extraction des données pertinentes"
   ]
  },
  {
   "cell_type": "code",
   "execution_count": 51,
   "metadata": {
    "collapsed": false
   },
   "outputs": [],
   "source": [
    "data= pd.concat([data1, data2, data3])[['LCC','Clarté nucale', 'Date Nuque', 'DDG', 'DDN']].dropna()"
   ]
  },
  {
   "cell_type": "code",
   "execution_count": 83,
   "metadata": {
    "collapsed": false
   },
   "outputs": [
    {
     "data": {
      "text/html": [
       "<div style=\"max-height:1000px;max-width:1500px;overflow:auto;\">\n",
       "<table border=\"1\" class=\"dataframe\">\n",
       "  <thead>\n",
       "    <tr style=\"text-align: right;\">\n",
       "      <th></th>\n",
       "      <th>LCC</th>\n",
       "      <th>Clarté nucale</th>\n",
       "      <th>Date Nuque</th>\n",
       "      <th>DDG</th>\n",
       "      <th>DDN</th>\n",
       "      <th>Age Maternel</th>\n",
       "      <th>Age Gestationnel</th>\n",
       "      <th>Age Maternel en jours</th>\n",
       "      <th>Age Gestationnel en jours</th>\n",
       "    </tr>\n",
       "  </thead>\n",
       "  <tbody>\n",
       "    <tr>\n",
       "      <th>0 </th>\n",
       "      <td> 73.6</td>\n",
       "      <td> 2.1</td>\n",
       "      <td>2012-12-31</td>\n",
       "      <td>2012-10-13</td>\n",
       "      <td>1984-01-01</td>\n",
       "      <td>10592 days</td>\n",
       "      <td>79 days</td>\n",
       "      <td> 10592</td>\n",
       "      <td> 79</td>\n",
       "    </tr>\n",
       "    <tr>\n",
       "      <th>1 </th>\n",
       "      <td> 81.0</td>\n",
       "      <td> 2.5</td>\n",
       "      <td>2013-01-02</td>\n",
       "      <td>2012-10-12</td>\n",
       "      <td>1977-05-05</td>\n",
       "      <td>13026 days</td>\n",
       "      <td>82 days</td>\n",
       "      <td> 13026</td>\n",
       "      <td> 82</td>\n",
       "    </tr>\n",
       "    <tr>\n",
       "      <th>2 </th>\n",
       "      <td> 55.3</td>\n",
       "      <td> 1.4</td>\n",
       "      <td>2012-12-27</td>\n",
       "      <td>2012-10-18</td>\n",
       "      <td>1985-01-28</td>\n",
       "      <td>10195 days</td>\n",
       "      <td>70 days</td>\n",
       "      <td> 10195</td>\n",
       "      <td> 70</td>\n",
       "    </tr>\n",
       "    <tr>\n",
       "      <th>3 </th>\n",
       "      <td> 49.3</td>\n",
       "      <td> 1.0</td>\n",
       "      <td>2012-12-21</td>\n",
       "      <td>2012-10-17</td>\n",
       "      <td>1987-02-08</td>\n",
       "      <td> 9448 days</td>\n",
       "      <td>65 days</td>\n",
       "      <td>  9448</td>\n",
       "      <td> 65</td>\n",
       "    </tr>\n",
       "    <tr>\n",
       "      <th>4 </th>\n",
       "      <td> 69.0</td>\n",
       "      <td> 3.9</td>\n",
       "      <td>2013-01-02</td>\n",
       "      <td>2012-10-17</td>\n",
       "      <td>1985-12-07</td>\n",
       "      <td> 9888 days</td>\n",
       "      <td>77 days</td>\n",
       "      <td>  9888</td>\n",
       "      <td> 77</td>\n",
       "    </tr>\n",
       "    <tr>\n",
       "      <th>5 </th>\n",
       "      <td> 73.0</td>\n",
       "      <td> 3.2</td>\n",
       "      <td>2013-01-02</td>\n",
       "      <td>2012-10-22</td>\n",
       "      <td>1969-03-03</td>\n",
       "      <td>16011 days</td>\n",
       "      <td>72 days</td>\n",
       "      <td> 16011</td>\n",
       "      <td> 72</td>\n",
       "    </tr>\n",
       "    <tr>\n",
       "      <th>6 </th>\n",
       "      <td> 66.0</td>\n",
       "      <td> 6.0</td>\n",
       "      <td>2013-01-02</td>\n",
       "      <td>2012-10-16</td>\n",
       "      <td>1968-08-23</td>\n",
       "      <td>16203 days</td>\n",
       "      <td>78 days</td>\n",
       "      <td> 16203</td>\n",
       "      <td> 78</td>\n",
       "    </tr>\n",
       "    <tr>\n",
       "      <th>7 </th>\n",
       "      <td> 56.0</td>\n",
       "      <td> 2.0</td>\n",
       "      <td>2012-12-28</td>\n",
       "      <td>2012-10-19</td>\n",
       "      <td>1966-08-17</td>\n",
       "      <td>16935 days</td>\n",
       "      <td>70 days</td>\n",
       "      <td> 16935</td>\n",
       "      <td> 70</td>\n",
       "    </tr>\n",
       "    <tr>\n",
       "      <th>8 </th>\n",
       "      <td> 69.9</td>\n",
       "      <td> 3.3</td>\n",
       "      <td>2012-12-20</td>\n",
       "      <td>2012-10-03</td>\n",
       "      <td>1985-06-15</td>\n",
       "      <td>10050 days</td>\n",
       "      <td>78 days</td>\n",
       "      <td> 10050</td>\n",
       "      <td> 78</td>\n",
       "    </tr>\n",
       "    <tr>\n",
       "      <th>10</th>\n",
       "      <td> 69.0</td>\n",
       "      <td> 2.7</td>\n",
       "      <td>2012-12-28</td>\n",
       "      <td>2012-10-16</td>\n",
       "      <td>1979-05-26</td>\n",
       "      <td>12270 days</td>\n",
       "      <td>73 days</td>\n",
       "      <td> 12270</td>\n",
       "      <td> 73</td>\n",
       "    </tr>\n",
       "  </tbody>\n",
       "</table>\n",
       "</div>"
      ],
      "text/plain": [
       "     LCC  Clarté nucale Date Nuque        DDG        DDN  Age Maternel  \\\n",
       "0   73.6            2.1 2012-12-31 2012-10-13 1984-01-01    10592 days   \n",
       "1   81.0            2.5 2013-01-02 2012-10-12 1977-05-05    13026 days   \n",
       "2   55.3            1.4 2012-12-27 2012-10-18 1985-01-28    10195 days   \n",
       "3   49.3            1.0 2012-12-21 2012-10-17 1987-02-08     9448 days   \n",
       "4   69.0            3.9 2013-01-02 2012-10-17 1985-12-07     9888 days   \n",
       "5   73.0            3.2 2013-01-02 2012-10-22 1969-03-03    16011 days   \n",
       "6   66.0            6.0 2013-01-02 2012-10-16 1968-08-23    16203 days   \n",
       "7   56.0            2.0 2012-12-28 2012-10-19 1966-08-17    16935 days   \n",
       "8   69.9            3.3 2012-12-20 2012-10-03 1985-06-15    10050 days   \n",
       "10  69.0            2.7 2012-12-28 2012-10-16 1979-05-26    12270 days   \n",
       "\n",
       "    Age Gestationnel  Age Maternel en jours  Age Gestationnel en jours  \n",
       "0            79 days                  10592                         79  \n",
       "1            82 days                  13026                         82  \n",
       "2            70 days                  10195                         70  \n",
       "3            65 days                   9448                         65  \n",
       "4            77 days                   9888                         77  \n",
       "5            72 days                  16011                         72  \n",
       "6            78 days                  16203                         78  \n",
       "7            70 days                  16935                         70  \n",
       "8            78 days                  10050                         78  \n",
       "10           73 days                  12270                         73  "
      ]
     },
     "execution_count": 83,
     "metadata": {},
     "output_type": "execute_result"
    }
   ],
   "source": [
    "data['Age Maternel'] = data['Date Nuque'] - data['DDN']\n",
    "data['Age Gestationnel'] = data['Date Nuque'] - data['DDG']\n",
    "data['Age Maternel en jours'] = data['Age Maternel'].dt.days\n",
    "data['Age Gestationnel en jours'] = data['Age Gestationnel'].dt.days\n",
    "data[:10]"
   ]
  },
  {
   "cell_type": "code",
   "execution_count": 54,
   "metadata": {
    "collapsed": false
   },
   "outputs": [
    {
     "data": {
      "text/plain": [
       "506268"
      ]
     },
     "execution_count": 54,
     "metadata": {},
     "output_type": "execute_result"
    }
   ],
   "source": [
    "len(data)"
   ]
  },
  {
   "cell_type": "markdown",
   "metadata": {},
   "source": [
    "# Corrélations ?\n",
    "\n",
    "On fait un test de spearman, car le pearson présuppose une distrib gaussienne pour le calcul de la p-valeur, or Wright nous a mâché le boulot en nous expliquant que justement c'est pas guassien.\n",
    "\n",
    "## Age maternel et clarté nucale"
   ]
  },
  {
   "cell_type": "code",
   "execution_count": 88,
   "metadata": {
    "collapsed": false
   },
   "outputs": [
    {
     "data": {
      "text/plain": [
       "<matplotlib.figure.Figure at 0x116d4d30>"
      ]
     },
     "metadata": {},
     "output_type": "display_data"
    },
    {
     "data": {
      "image/png": "[encoded data removed]",
      "text/plain": [
       "<matplotlib.figure.Figure at 0x1367b6d8>"
      ]
     },
     "metadata": {},
     "output_type": "display_data"
    }
   ],
   "source": [
    "plt.figure(figsize=(15,15))\n",
    "with sns.axes_style(\"white\"):\n",
    "    sns.jointplot(x=data['Age Maternel en jours'],\n",
    "                  y=data['Clarté nucale'],\n",
    "                  ylim=[0, 5],\n",
    "                  kind=\"kde\", color=\"k\",\n",
    "                  size=10,\n",
    "                stat_func=scipy.stats.spearmanr);\n",
    "#plt.savefig('CNvsAM.pdf')"
   ]
  },
  {
   "cell_type": "markdown",
   "metadata": {},
   "source": [
    "# Corrélation age gestationnel et clarté nucale"
   ]
  },
  {
   "cell_type": "code",
   "execution_count": 89,
   "metadata": {
    "collapsed": false
   },
   "outputs": [
    {
     "data": {
      "text/plain": [
       "<matplotlib.figure.Figure at 0x18dfe7b8>"
      ]
     },
     "metadata": {},
     "output_type": "display_data"
    },
    {
     "data": {
      "image/png": "[encoded data removed]",
      "text/plain": [
       "<matplotlib.figure.Figure at 0x16195278>"
      ]
     },
     "metadata": {},
     "output_type": "display_data"
    }
   ],
   "source": [
    "plt.figure(figsize=(15,15))\n",
    "with sns.axes_style(\"white\"):\n",
    "    sns.jointplot(x=data['Age Gestationnel en jours'],\n",
    "                  y=data['Clarté nucale'],\n",
    "                  ylim=[0, 5],\n",
    "                  xlim=[0,150],\n",
    "                  kind=\"kde\", color=\"k\",\n",
    "                  size=10,\n",
    "                stat_func=scipy.stats.spearmanr);"
   ]
  }
 ],
 "metadata": {
  "kernelspec": {
   "display_name": "Python 3",
   "language": "python",
   "name": "python3"
  },
  "language_info": {
   "codemirror_mode": {
    "name": "ipython",
    "version": 3
   },
   "file_extension": ".py",
   "mimetype": "text/x-python",
   "name": "python",
   "nbconvert_exporter": "python",
   "pygments_lexer": "ipython3",
   "version": "3.4.3"
  }
 },
 "nbformat": 4,
 "nbformat_minor": 0
}
